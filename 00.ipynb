{
 "cells": [
  {
   "cell_type": "markdown",
   "metadata": {},
   "source": [
    "Bu dersteki bütün IPython Notebook'lar  adresinde https://github.com/sinanonur/Python-Lectures mevcuttur ve [bu adres](https://github.com/rajathkumarmp/Python-Lectures)teki içerik Türkçe'ye çevirilerek hazırlanmıştır.\n",
    "\n"
   ]
  },
  {
   "cell_type": "markdown",
   "metadata": {},
   "source": [
    "# Python Dersleri"
   ]
  },
  {
   "cell_type": "markdown",
   "metadata": {},
   "source": [
    "## Giriş"
   ]
  },
  {
   "cell_type": "markdown",
   "metadata": {},
   "source": [
    "Python modern, güçlü ve yüksek seviye bir programlama dilidir. Programlamaya yeniyseniz bile öğrenmesi oldukça kolaydır."
   ]
  },
  {
   "cell_type": "markdown",
   "metadata": {},
   "source": [
    "## Yükleme"
   ]
  },
  {
   "cell_type": "markdown",
   "metadata": {},
   "source": [
    "Mac OS X ve Linux'ta genellikle Python önyğklenmiş olarak gelir. Windows kullanıcıları şu adresten python indirebilirler: https://www.python.org/downloads/ \n",
    "\n",
    "IPython yüklemek için aşşağıdaki komutu çalıştırın,\n",
    "\n",
    "    $ pip install ipython[all]\n",
    "\n",
    "Bu, notebook, qtconsole, test gibi gerekli gereksinimleri yükleyecektir. "
   ]
  },
  {
   "cell_type": "markdown",
   "metadata": {},
   "source": [
    "### Resmi olmayan dağıtımlardan yükleme"
   ]
  },
  {
   "cell_type": "markdown",
   "metadata": {},
   "source": [
    "Gerekli bütün kütüphaneleri yüklemek sıkıntılı bir iş olabilir. Anaconda ve Canopy bütün gerekli python kütüphaneleri ve IPython önyüklü olarak gelirler."
   ]
  },
  {
   "cell_type": "markdown",
   "metadata": {},
   "source": [
    "#### Anaconda"
   ]
  },
  {
   "cell_type": "markdown",
   "metadata": {},
   "source": [
    "Anaconda'yı https://www.continuum.io/downloads adresinden indirebilirsiniz.\n",
    "\n",
    "Anaconda tamamen bedava ve özgür bir yazılımdır ve 300den fazla python paketi içerir. Pythonun 2.7 ve 3.4 versiyonlarını destekler."
   ]
  },
  {
   "cell_type": "markdown",
   "metadata": {},
   "source": [
    "#### Canopy"
   ]
  },
  {
   "cell_type": "markdown",
   "metadata": {},
   "source": [
    "Canopy'yi https://store.enthought.com/downloads/#default adresinden indirebilirsiniz.\n",
    "\n",
    "Canopynin 300+ python paketi sunan bir premium versiyonu vardır. Fakat bedava sürümü de yeterince iyidir. Canopy şu anda sadece 2.7 destekler fakat kendi metin editörü ve IPython ortamıyla gelir."
   ]
  },
  {
   "cell_type": "markdown",
   "metadata": {},
   "source": [
    "## IPython Notebook'u açma"
   ]
  },
  {
   "cell_type": "markdown",
   "metadata": {},
   "source": [
    "Terminalden\n",
    "\n",
    "    ipython notebook\n",
    "\n",
    "Canopy ve Anaconda'da ilgili terminali açıp yukarıdaki komtu girin."
   ]
  },
  {
   "cell_type": "markdown",
   "metadata": {},
   "source": [
    "## Bu kaynağı nasıl kullanabilirim?"
   ]
  },
  {
   "cell_type": "markdown",
   "metadata": {},
   "source": [
    "IPython Notebook'u notebookları içeren dizinden çalıştırın. Hepsini açarak şunları yapın:\n",
    "\n",
    "    Cell > All Output > Clear\n",
    "\n",
    "Bu bütün çıktıları temizleyecektir. Böylece her ifadeyi anlayarak interaktif olarak çalışabilirsiniz."
   ]
  },
  {
   "cell_type": "markdown",
   "metadata": {},
   "source": [
    "## Lisans"
   ]
  },
  {
   "cell_type": "markdown",
   "metadata": {},
   "source": [
    "Bu çalışma Creative Commons 3.0 Yerelleştirilmemiş Lisans ile lisanslanmıştır. Bu lisansın bir kopyası için https://creativecommons.org/licenses/by/3.0/deed.tr adresini ziyaret ediniz."
   ]
  },
  {
   "cell_type": "code",
   "execution_count": null,
   "metadata": {
    "collapsed": true
   },
   "outputs": [],
   "source": []
  }
 ],
 "metadata": {
  "anaconda-cloud": {},
  "kernelspec": {
   "display_name": "Python [default]",
   "language": "python",
   "name": "python2"
  },
  "language_info": {
   "codemirror_mode": {
    "name": "ipython",
    "version": 2
   },
   "file_extension": ".py",
   "mimetype": "text/x-python",
   "name": "python",
   "nbconvert_exporter": "python",
   "pygments_lexer": "ipython2",
   "version": "2.7.12"
  }
 },
 "nbformat": 4,
 "nbformat_minor": 0
}
